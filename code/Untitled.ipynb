{
 "cells": [
  {
   "cell_type": "markdown",
   "metadata": {},
   "source": [
    "# Preliminaries, dependencies, parameters"
   ]
  },
  {
   "cell_type": "code",
   "execution_count": 13,
   "metadata": {
    "scrolled": true
   },
   "outputs": [],
   "source": [
    "library(here)\n",
    "dir.create(\"figures\", showWarnings = FALSE)\n",
    "dir.create(\"data\", showWarnings = FALSE)"
   ]
  },
  {
   "cell_type": "code",
   "execution_count": 14,
   "metadata": {},
   "outputs": [],
   "source": [
    "source(paste(here(),\"/code/functions.R\",sep=''))"
   ]
  },
  {
   "cell_type": "code",
   "execution_count": 15,
   "metadata": {},
   "outputs": [],
   "source": [
    "dependencies <-\n",
    "    c(\n",
    "        \"here\",\n",
    "        \"essurvey\",\n",
    "        \"foreign\",\n",
    "        \"qgraph\",\n",
    "        \"dplyr\",\n",
    "        \"tidyverse\",\n",
    "        \"questionr\",\n",
    "        \"labelled\",\n",
    "        \"networktree\",\n",
    "        \"igraph\",\n",
    "        \"influential\",\n",
    "        \"fmsb\",\n",
    "        \"devtools\",\n",
    "        \"ggplot2\"\n",
    "    )"
   ]
  },
  {
   "cell_type": "code",
   "execution_count": 16,
   "metadata": {},
   "outputs": [
    {
     "name": "stdout",
     "output_type": "stream",
     "text": [
      "[1] \"All Dependecies already installed!\"\n"
     ]
    }
   ],
   "source": [
    "install_dependencies(dependencies)"
   ]
  },
  {
   "cell_type": "code",
   "execution_count": 17,
   "metadata": {},
   "outputs": [],
   "source": [
    "colors_border = c(rgb(0.2, 0.5, 0.5, 0.9),\n",
    "                  rgb(0.8, 0.2, 0.5, 0.9) ,\n",
    "                  rgb(0.7, 0.5, 0.1, 0.9))\n",
    "colors_in = c(rgb(0.2, 0.5, 0.5, 0.4),\n",
    "              rgb(0.8, 0.2, 0.5, 0.4) ,\n",
    "              rgb(0.7, 0.5, 0.1, 0.4))"
   ]
  },
  {
   "cell_type": "code",
   "execution_count": 18,
   "metadata": {},
   "outputs": [],
   "source": [
    "plotargs = list(\n",
    "    vsize = 25,\n",
    "    alpha = 0.9,\n",
    "    label.size = 3.5,\n",
    "    edge.alpha = 0.8,\n",
    "    legend.names = c(\"\"),\n",
    "    edge.color = \"black\",\n",
    "    legend.size = 0\n",
    ")"
   ]
  },
  {
   "cell_type": "markdown",
   "metadata": {},
   "source": [
    "# Variable selection"
   ]
  },
  {
   "cell_type": "code",
   "execution_count": null,
   "metadata": {},
   "outputs": [],
   "source": [
    "variables_of_interest <- c(\n",
    "    \"psppsgva\", \"psppipla\", \"trstprl\", \"trstplt\",\n",
    "    \"trstprt\", \"trstlgl\", \"trstplc\",\n",
    "    \"stfeco\", \"stfgov\", \"stfdem\",\n",
    "    \"stfedu\", \"stfhlth\", \"frprtpl\",\n",
    "    \"gvintcz\", \"poltran\", \"gndr\",\n",
    "    \"agea\", \"cntry\", \"rlgblg\",\n",
    "    \"eduyrs\",\"lrscale\"\n",
    ")"
   ]
  },
  {
   "cell_type": "code",
   "execution_count": null,
   "metadata": {},
   "outputs": [],
   "source": [
    "factor_variables <- c(\n",
    "    \"psppsgva\", \"psppipla\", \"trstprl\",\n",
    "    \"trstlgl\", \"trstplc\", \"trstplt\",\n",
    "    \"trstprt\", \"stfeco\", \"stfgov\",\n",
    "    \"stfdem\", \"stfedu\", \"stfhlth\",\n",
    "    \"frprtpl\", \"gvintcz\", \"poltran\",\"lrscale\"\n",
    ")"
   ]
  },
  {
   "cell_type": "code",
   "execution_count": null,
   "metadata": {},
   "outputs": [],
   "source": [
    "variable_names <- c(\n",
    "    \"PeopleAllow\", \"PeopleInfluence\", \"Parliament\",\n",
    "    \"Legal\", \"Police\", \"Politicians\", \"Parties\",\n",
    "    \"Economy\", \"Government\", \"Democracy\",\n",
    "    \"Education\", \"Health\", \"FairChance\",\n",
    "    \"CitInterest\", \"Transparent\", \"Gender\",\n",
    "    \"Age\", \"Country\", \"ReligionBelong\",\n",
    "    \"Education\",\"lrscale\"\n",
    ")"
   ]
  },
  {
   "cell_type": "markdown",
   "metadata": {},
   "source": [
    "# Data Prep"
   ]
  },
  {
   "cell_type": "code",
   "execution_count": null,
   "metadata": {},
   "outputs": [],
   "source": [
    "data <- load_ess_data()"
   ]
  },
  {
   "cell_type": "code",
   "execution_count": 19,
   "metadata": {},
   "outputs": [
    {
     "name": "stderr",
     "output_type": "stream",
     "text": [
      "Warning message in file(file, \"rt\"):\n",
      "“cannot open file 'csv/external-data.csv': No such file or directory”\n"
     ]
    },
    {
     "ename": "ERROR",
     "evalue": "Error in file(file, \"rt\"): cannot open the connection\n",
     "output_type": "error",
     "traceback": [
      "Error in file(file, \"rt\"): cannot open the connection\nTraceback:\n",
      "1. read.csv(\"csv/external-data.csv\")",
      "2. read.table(file = file, header = header, sep = sep, quote = quote, \n .     dec = dec, fill = fill, comment.char = comment.char, ...)",
      "3. file(file, \"rt\")"
     ]
    }
   ],
   "source": [
    "read.csv('csv/external-data.csv')"
   ]
  }
 ],
 "metadata": {
  "kernelspec": {
   "display_name": "R",
   "language": "R",
   "name": "ir"
  },
  "language_info": {
   "codemirror_mode": "r",
   "file_extension": ".r",
   "mimetype": "text/x-r-source",
   "name": "R",
   "pygments_lexer": "r",
   "version": "4.1.0"
  },
  "latex_envs": {
   "LaTeX_envs_menu_present": true,
   "autoclose": true,
   "autocomplete": true,
   "bibliofile": "biblio.bib",
   "cite_by": "apalike",
   "current_citInitial": 1,
   "eqLabelWithNumbers": true,
   "eqNumInitial": 1,
   "hotkeys": {
    "equation": "Ctrl-E",
    "itemize": "Ctrl-I"
   },
   "labels_anchors": false,
   "latex_user_defs": false,
   "report_style_numbering": false,
   "user_envs_cfg": false
  },
  "toc": {
   "base_numbering": 1,
   "nav_menu": {},
   "number_sections": true,
   "sideBar": true,
   "skip_h1_title": false,
   "title_cell": "Table of Contents",
   "title_sidebar": "Contents",
   "toc_cell": false,
   "toc_position": {},
   "toc_section_display": true,
   "toc_window_display": false
  },
  "varInspector": {
   "cols": {
    "lenName": 16,
    "lenType": 16,
    "lenVar": 40
   },
   "kernels_config": {
    "python": {
     "delete_cmd_postfix": "",
     "delete_cmd_prefix": "del ",
     "library": "var_list.py",
     "varRefreshCmd": "print(var_dic_list())"
    },
    "r": {
     "delete_cmd_postfix": ") ",
     "delete_cmd_prefix": "rm(",
     "library": "var_list.r",
     "varRefreshCmd": "cat(var_dic_list()) "
    }
   },
   "types_to_exclude": [
    "module",
    "function",
    "builtin_function_or_method",
    "instance",
    "_Feature"
   ],
   "window_display": false
  }
 },
 "nbformat": 4,
 "nbformat_minor": 4
}
